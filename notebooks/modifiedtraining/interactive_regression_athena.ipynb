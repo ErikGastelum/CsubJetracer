{
 "cells": [
  {
   "cell_type": "markdown",
   "metadata": {
    "jp-MarkdownHeadingCollapsed": true
   },
   "source": [
    "### Run this code once"
   ]
  },
  {
   "cell_type": "code",
   "execution_count": null,
   "metadata": {},
   "outputs": [],
   "source": [
    "%pip install torchvision"
   ]
  },
  {
   "cell_type": "code",
   "execution_count": null,
   "metadata": {},
   "outputs": [],
   "source": [
    "%pip install ipywidgets"
   ]
  },
  {
   "cell_type": "code",
   "execution_count": null,
   "metadata": {},
   "outputs": [],
   "source": [
    "%pip install opencv-python"
   ]
  },
  {
   "cell_type": "code",
   "execution_count": null,
   "metadata": {},
   "outputs": [],
   "source": [
    "%pip install jupyterlab_widgets"
   ]
  },
  {
   "cell_type": "markdown",
   "metadata": {},
   "source": [
    "### Task"
   ]
  },
  {
   "cell_type": "code",
   "execution_count": 2,
   "metadata": {},
   "outputs": [
    {
     "data": {
      "application/vnd.jupyter.widget-view+json": {
       "model_id": "5b516f2b69b94706bbfb178bb1b79ed0",
       "version_major": 2,
       "version_minor": 0
      },
      "text/plain": [
       "IntSlider(value=0)"
      ]
     },
     "execution_count": 2,
     "metadata": {},
     "output_type": "execute_result"
    }
   ],
   "source": [
    "import ipywidgets as widgets\n",
    "from IPython.display import display\n",
    "widgets.IntSlider()"
   ]
  },
  {
   "cell_type": "code",
   "execution_count": 3,
   "metadata": {},
   "outputs": [],
   "source": [
    "import os\n",
    "import cv2\n",
    "import torch\n",
    "import torchvision\n",
    "import torchvision.transforms as transforms\n",
    "import ipywidgets\n",
    "from IPython.display import display\n",
    "from PIL import Image\n",
    "import numpy as np\n",
    "from xy_dataset import XYDataset\n",
    "import time\n",
    "\n",
    "\n",
    "TASK = 'road_following'\n",
    "\n",
    "CATEGORIES = ['apex']\n",
    "\n",
    "DATASETS = ['A', 'B', 'C', 'D', 'E', 'F', 'G']\n",
    "\n",
    "\n",
    "\n",
    "# Configuration\n",
    "TASK = 'road_following'\n",
    "CATEGORIES = ['apex']\n",
    "DATASETS = ['A', 'B', 'C', 'D', 'E', 'F', 'G']\n",
    "\n",
    "\n",
    "\n"
   ]
  },
  {
   "cell_type": "markdown",
   "metadata": {},
   "source": [
    "### Data Collection"
   ]
  },
  {
   "cell_type": "code",
   "execution_count": 4,
   "metadata": {},
   "outputs": [
    {
     "data": {
      "application/vnd.jupyter.widget-view+json": {
       "model_id": "cd253e991f714988b24a524317fa3109",
       "version_major": 2,
       "version_minor": 0
      },
      "text/plain": [
       "VBox(children=(Dropdown(description='dataset', options=('A', 'B', 'C', 'D', 'E', 'F', 'G'), value='A'), HTML(v…"
      ]
     },
     "metadata": {},
     "output_type": "display_data"
    },
    {
     "data": {
      "application/vnd.jupyter.widget-view+json": {
       "model_id": "07b5a0339cda4e2faf190b69dc30f85a",
       "version_major": 2,
       "version_minor": 0
      },
      "text/plain": [
       "VBox(children=(HTML(value='<b>Image Directory:</b> csubjetracer/notebooks/modifiedtraining/road_following_G/ap…"
      ]
     },
     "metadata": {},
     "output_type": "display_data"
    }
   ],
   "source": [
    "IMAGE_DIRECTORY = 'csubjetracer/notebooks/modifiedtraining/road_following_G/apex'  # Update this path to your image directory\n",
    "\n",
    "# Define transforms\n",
    "TRANSFORMS = transforms.Compose([\n",
    "    transforms.ColorJitter(0.2, 0.2, 0.2, 0.2),\n",
    "    transforms.Resize((224, 224)),\n",
    "    transforms.ToTensor(),\n",
    "    transforms.Normalize([0.485, 0.456, 0.406], [0.229, 0.224, 0.225])\n",
    "])\n",
    "\n",
    "\n",
    "# Initialize datasets\n",
    "datasets = {}\n",
    "for name in DATASETS:\n",
    "    datasets[name] = XYDataset(TASK + '_' + name, CATEGORIES, TRANSFORMS, random_hflip=True)\n",
    "dataset = datasets[DATASETS[0]]\n",
    "\n",
    "# Create widgets for dataset selection\n",
    "dataset_widget = ipywidgets.Dropdown(options=DATASETS, description='dataset')\n",
    "info_widget = ipywidgets.HTML(value='<b>Dataset Information</b>')\n",
    "\n",
    "def update_info():\n",
    "    \"\"\"Update information display about the current dataset\"\"\"\n",
    "    total_count = 0\n",
    "    info_text = f'<b>Dataset: {dataset_widget.value}</b><br>'\n",
    "    for category in dataset.categories:\n",
    "        count = dataset.get_count(category)\n",
    "        total_count += count\n",
    "        info_text += f'{category}: {count} images<br>'\n",
    "    info_text += f'<b>Total: {total_count} images</b>'\n",
    "    info_widget.value = info_text\n",
    "\n",
    "def set_dataset(change):\n",
    "    \"\"\"Sets the active dataset\"\"\"\n",
    "    global dataset\n",
    "    dataset = datasets[change['new']]\n",
    "    update_info()\n",
    "\n",
    "dataset_widget.observe(set_dataset, names='value')\n",
    "update_info()\n",
    "\n",
    "# Display dataset selection widget\n",
    "dataset_selection_widget = ipywidgets.VBox([\n",
    "    dataset_widget,\n",
    "    info_widget\n",
    "])\n",
    "display(dataset_selection_widget)\n",
    "\n",
    "# Load images from directory (if you want to visualize existing images)\n",
    "def load_images_from_directory(directory_path, dataset_name):\n",
    "    \"\"\"Load existing images from directory into dataset\"\"\"\n",
    "    dataset_path = os.path.join(directory_path, f'{TASK}_{dataset_name}')\n",
    "    \n",
    "    if os.path.exists(dataset_path):\n",
    "        for category in CATEGORIES:\n",
    "            category_path = os.path.join(dataset_path, category)\n",
    "            if os.path.exists(category_path):\n",
    "                image_files = [f for f in os.listdir(category_path) if f.endswith('.jpg')]\n",
    "                print(f\"Found {len(image_files)} images in {category_path}\")\n",
    "                \n",
    "                # Note: This assumes your images are already saved with annotations\n",
    "                # If you need to load the annotations, you'll need to parse the filenames\n",
    "                # or load from a separate annotation file\n",
    "\n",
    "# Optional: Load existing images\n",
    "load_button = ipywidgets.Button(description='Load Existing Images')\n",
    "status_widget = ipywidgets.HTML(value='')\n",
    "\n",
    "def on_load_click(b):\n",
    "    status_widget.value = '<i>Loading images...</i>'\n",
    "    try:\n",
    "        for dataset_name in DATASETS:\n",
    "            load_images_from_directory(IMAGE_DIRECTORY, dataset_name)\n",
    "        status_widget.value = '<b style=\"color:green\">Images loaded successfully!</b>'\n",
    "    except Exception as e:\n",
    "        status_widget.value = f'<b style=\"color:red\">Error: {str(e)}</b>'\n",
    "\n",
    "load_button.on_click(on_load_click)\n",
    "\n",
    "load_widget = ipywidgets.VBox([\n",
    "    ipywidgets.HTML(value=f'<b>Image Directory:</b> {IMAGE_DIRECTORY}'),\n",
    "    load_button,\n",
    "    status_widget\n",
    "])\n",
    "display(load_widget)"
   ]
  },
  {
   "cell_type": "markdown",
   "metadata": {},
   "source": [
    "### Model"
   ]
  },
  {
   "cell_type": "code",
   "execution_count": 5,
   "metadata": {},
   "outputs": [
    {
     "name": "stderr",
     "output_type": "stream",
     "text": [
      "/home/egastelum/jupyter_env/lib/python3.8/site-packages/torchvision/models/_utils.py:208: UserWarning: The parameter 'pretrained' is deprecated since 0.13 and may be removed in the future, please use 'weights' instead.\n",
      "  warnings.warn(\n",
      "/home/egastelum/jupyter_env/lib/python3.8/site-packages/torchvision/models/_utils.py:223: UserWarning: Arguments other than a weight enum or `None` for 'weights' are deprecated since 0.13 and may be removed in the future. The current behavior is equivalent to passing `weights=ResNet18_Weights.IMAGENET1K_V1`. You can also use `weights=ResNet18_Weights.DEFAULT` to get the most up-to-date weights.\n",
      "  warnings.warn(msg)\n"
     ]
    },
    {
     "data": {
      "application/vnd.jupyter.widget-view+json": {
       "model_id": "b4d07c30ceae4e39bda73aeeb8114d5f",
       "version_major": 2,
       "version_minor": 0
      },
      "text/plain": [
       "VBox(children=(Text(value='road_following_model.pth', description='model path'), HBox(children=(Button(descrip…"
      ]
     },
     "metadata": {},
     "output_type": "display_data"
    }
   ],
   "source": [
    "import torch\n",
    "\n",
    "# Model setup\n",
    "device = torch.device('cuda')\n",
    "output_dim = 2 * len(dataset.categories)  # x, y coordinate for each category\n",
    "\n",
    "# RESNET 18 (you can uncomment other models as needed)\n",
    "model = torchvision.models.resnet18(pretrained=True)\n",
    "model.fc = torch.nn.Linear(512, output_dim)\n",
    "\n",
    "# Alternative models (uncomment to use):\n",
    "# ALEXNET\n",
    "# model = torchvision.models.alexnet(pretrained=True)\n",
    "# model.classifier[-1] = torch.nn.Linear(4096, output_dim)\n",
    "\n",
    "# SQUEEZENET \n",
    "# model = torchvision.models.squeezenet1_1(pretrained=True)\n",
    "# model.classifier[1] = torch.nn.Conv2d(512, output_dim, kernel_size=1)\n",
    "\n",
    "# RESNET 34\n",
    "# model = torchvision.models.resnet34(pretrained=True)\n",
    "# model.fc = torch.nn.Linear(512, output_dim)\n",
    "\n",
    "# DENSENET 121\n",
    "# model = torchvision.models.densenet121(pretrained=True)\n",
    "# model.classifier = torch.nn.Linear(model.num_features, output_dim)\n",
    "\n",
    "model = model.to(device)\n",
    "\n",
    "# Model save/load widgets\n",
    "model_save_button = ipywidgets.Button(description='save model')\n",
    "model_load_button = ipywidgets.Button(description='load model')\n",
    "model_path_widget = ipywidgets.Text(description='model path', value='road_following_model.pth')\n",
    "\n",
    "def load_model(c):\n",
    "    try:\n",
    "        model.load_state_dict(torch.load(model_path_widget.value))\n",
    "        print(f\"Model loaded from {model_path_widget.value}\")\n",
    "    except Exception as e:\n",
    "        print(f\"Error loading model: {e}\")\n",
    "\n",
    "model_load_button.on_click(load_model)\n",
    "    \n",
    "def save_model(c):\n",
    "    try:\n",
    "        torch.save(model.state_dict(), model_path_widget.value)\n",
    "        print(f\"Model saved to {model_path_widget.value}\")\n",
    "    except Exception as e:\n",
    "        print(f\"Error saving model: {e}\")\n",
    "\n",
    "model_save_button.on_click(save_model)\n",
    "\n",
    "model_widget = ipywidgets.VBox([\n",
    "    model_path_widget,\n",
    "    ipywidgets.HBox([model_load_button, model_save_button])\n",
    "])\n",
    "display(model_widget)"
   ]
  },
  {
   "cell_type": "markdown",
   "metadata": {},
   "source": [
    "### Live Execution"
   ]
  },
  {
   "cell_type": "code",
   "execution_count": 6,
   "metadata": {
    "tags": []
   },
   "outputs": [
    {
     "data": {
      "application/vnd.jupyter.widget-view+json": {
       "model_id": "892b7e8669424910914aefb27f35139e",
       "version_major": 2,
       "version_minor": 0
      },
      "text/plain": [
       "VBox(children=(IntText(value=1, description='epochs'), FloatProgress(value=0.0, description='progress', max=1.…"
      ]
     },
     "metadata": {},
     "output_type": "display_data"
    }
   ],
   "source": [
    "import torch\n",
    "\n",
    "# Training setup\n",
    "BATCH_SIZE = 8\n",
    "optimizer = torch.optim.Adam(model.parameters())\n",
    "# Alternative optimizer:\n",
    "# optimizer = torch.optim.SGD(model.parameters(), lr=1e-3, momentum=0.9)\n",
    "\n",
    "# Training widgets\n",
    "epochs_widget = ipywidgets.IntText(description='epochs', value=1)\n",
    "eval_button = ipywidgets.Button(description='evaluate')\n",
    "train_button = ipywidgets.Button(description='train')\n",
    "loss_widget = ipywidgets.FloatText(description='loss')\n",
    "progress_widget = ipywidgets.FloatProgress(min=0.0, max=1.0, description='progress')\n",
    "state_widget = ipywidgets.Text(description='state', value='ready')\n",
    "\n",
    "def train_eval(is_training):\n",
    "    global BATCH_SIZE, model, dataset, optimizer\n",
    "    \n",
    "    try:\n",
    "        # Create data loader\n",
    "        train_loader = torch.utils.data.DataLoader(\n",
    "            dataset,\n",
    "            batch_size=BATCH_SIZE,\n",
    "            shuffle=True\n",
    "        )\n",
    "        \n",
    "        state_widget.value = 'running'\n",
    "        train_button.disabled = True\n",
    "        eval_button.disabled = True\n",
    "        \n",
    "        if is_training:\n",
    "            model = model.train()\n",
    "        else:\n",
    "            model = model.eval()\n",
    "            \n",
    "        while epochs_widget.value > 0:\n",
    "            i = 0\n",
    "            sum_loss = 0.0\n",
    "            error_count = 0.0\n",
    "            \n",
    "            for images, category_idx, xy in iter(train_loader):\n",
    "                # Send data to device\n",
    "                images = images.to(device)\n",
    "                xy = xy.to(device)\n",
    "                \n",
    "                if is_training:\n",
    "                    # Zero gradients\n",
    "                    optimizer.zero_grad()\n",
    "                \n",
    "                # Forward pass\n",
    "                outputs = model(images)\n",
    "                \n",
    "                # Compute MSE loss over x, y coordinates for associated categories\n",
    "                loss = 0.0\n",
    "                for batch_idx, cat_idx in enumerate(list(category_idx.flatten())):\n",
    "                    loss += torch.mean((outputs[batch_idx][2 * cat_idx:2 * cat_idx+2] - xy[batch_idx])**2)\n",
    "                loss /= len(category_idx)\n",
    "                \n",
    "                if is_training:\n",
    "                    # Backward pass and optimization\n",
    "                    loss.backward()\n",
    "                    optimizer.step()\n",
    "                \n",
    "                # Update progress\n",
    "                count = len(category_idx.flatten())\n",
    "                i += count\n",
    "                sum_loss += float(loss)\n",
    "                progress_widget.value = i / len(dataset)\n",
    "                loss_widget.value = sum_loss / i\n",
    "                \n",
    "            if is_training:\n",
    "                epochs_widget.value = epochs_widget.value - 1\n",
    "                print(f\"Epoch completed. Loss: {sum_loss / i:.4f}\")\n",
    "            else:\n",
    "                break\n",
    "                \n",
    "    except Exception as e:\n",
    "        print(f\"Error during training/evaluation: {e}\")\n",
    "        state_widget.value = 'error'\n",
    "    \n",
    "    model = model.eval()\n",
    "    train_button.disabled = False\n",
    "    eval_button.disabled = False\n",
    "    state_widget.value = 'ready'\n",
    "    \n",
    "train_button.on_click(lambda c: train_eval(is_training=True))\n",
    "eval_button.on_click(lambda c: train_eval(is_training=False))\n",
    "    \n",
    "train_eval_widget = ipywidgets.VBox([\n",
    "    epochs_widget,\n",
    "    progress_widget,\n",
    "    loss_widget,\n",
    "    state_widget,\n",
    "    ipywidgets.HBox([train_button, eval_button])\n",
    "])\n",
    "display(train_eval_widget)"
   ]
  },
  {
   "cell_type": "code",
   "execution_count": 7,
   "metadata": {
    "tags": []
   },
   "outputs": [
    {
     "data": {
      "application/vnd.jupyter.widget-view+json": {
       "model_id": "bff2d374f1404d0797b54d9c00070c42",
       "version_major": 2,
       "version_minor": 0
      },
      "text/plain": [
       "VBox(children=(IntText(value=1, description='epochs'), FloatProgress(value=0.0, description='progress', max=1.…"
      ]
     },
     "metadata": {},
     "output_type": "display_data"
    }
   ],
   "source": [
    "import torch\n",
    "\n",
    "BATCH_SIZE = 8\n",
    "\n",
    "optimizer = torch.optim.Adam(model.parameters())\n",
    "# optimizer = torch.optim.SGD(model.parameters(), lr=1e-3, momentum=0.9)\n",
    "\n",
    "epochs_widget = ipywidgets.IntText(description='epochs', value=1)\n",
    "eval_button = ipywidgets.Button(description='evaluate')\n",
    "train_button = ipywidgets.Button(description='train')\n",
    "loss_widget = ipywidgets.FloatText(description='loss')\n",
    "progress_widget = ipywidgets.FloatProgress(min=0.0, max=1.0, description='progress')\n",
    "\n",
    "def train_eval(is_training):\n",
    "    global BATCH_SIZE, LEARNING_RATE, MOMENTUM, model, dataset, optimizer, eval_button, train_button, accuracy_widget, loss_widget, progress_widget, state_widget\n",
    "    \n",
    "    try:\n",
    "        train_loader = torch.utils.data.DataLoader(\n",
    "            dataset,\n",
    "            batch_size=BATCH_SIZE,\n",
    "            shuffle=True\n",
    "        )\n",
    "\n",
    "        state_widget.value = 'stop'\n",
    "        train_button.disabled = True\n",
    "        eval_button.disabled = True\n",
    "        time.sleep(1)\n",
    "\n",
    "        if is_training:\n",
    "            model = model.train()\n",
    "        else:\n",
    "            model = model.eval()\n",
    "\n",
    "        while epochs_widget.value > 0:\n",
    "            i = 0\n",
    "            sum_loss = 0.0\n",
    "            error_count = 0.0\n",
    "            for images, category_idx, xy in iter(train_loader):\n",
    "                # send data to device\n",
    "                images = images.to(device)\n",
    "                xy = xy.to(device)\n",
    "\n",
    "                if is_training:\n",
    "                    # zero gradients of parameters\n",
    "                    optimizer.zero_grad()\n",
    "\n",
    "                # execute model to get outputs\n",
    "                outputs = model(images)\n",
    "\n",
    "                # compute MSE loss over x, y coordinates for associated categories\n",
    "                loss = 0.0\n",
    "                for batch_idx, cat_idx in enumerate(list(category_idx.flatten())):\n",
    "                    loss += torch.mean((outputs[batch_idx][2 * cat_idx:2 * cat_idx+2] - xy[batch_idx])**2)\n",
    "                loss /= len(category_idx)\n",
    "\n",
    "                if is_training:\n",
    "                    # run backpropogation to accumulate gradients\n",
    "                    loss.backward()\n",
    "\n",
    "                    # step optimizer to adjust parameters\n",
    "                    optimizer.step()\n",
    "\n",
    "                # increment progress\n",
    "                count = len(category_idx.flatten())\n",
    "                i += count\n",
    "                sum_loss += float(loss)\n",
    "                progress_widget.value = i / len(dataset)\n",
    "                loss_widget.value = sum_loss / i\n",
    "                \n",
    "            if is_training:\n",
    "                epochs_widget.value = epochs_widget.value - 1\n",
    "            else:\n",
    "                break\n",
    "    except e:\n",
    "        pass\n",
    "    model = model.eval()\n",
    "\n",
    "    train_button.disabled = False\n",
    "    eval_button.disabled = False\n",
    "    state_widget.value = 'live'\n",
    "    \n",
    "train_button.on_click(lambda c: train_eval(is_training=True))\n",
    "eval_button.on_click(lambda c: train_eval(is_training=False))\n",
    "    \n",
    "train_eval_widget = ipywidgets.VBox([\n",
    "    epochs_widget,\n",
    "    progress_widget,\n",
    "    loss_widget,\n",
    "    ipywidgets.HBox([train_button, eval_button])\n",
    ",\n",
    "model_widget\n",
    "])\n",
    "display(train_eval_widget)\n"
   ]
  },
  {
   "cell_type": "markdown",
   "metadata": {},
   "source": [
    "### All together!"
   ]
  },
  {
   "cell_type": "markdown",
   "metadata": {},
   "source": [
    "The following widget can be used to label a multi-class x, y dataset.  It supports labeling only one instance of each class per image (ie: only one dog), but multiple classes (ie: dog, cat, horse) per image are possible.\n",
    "\n",
    "Click the image on the top left to save an image of ``category`` to ``dataset`` at the clicked location.\n",
    "\n",
    "| Widget | Description |\n",
    "|--------|-------------|\n",
    "| dataset | Selects the active dataset |\n",
    "| category | Selects the active category |\n",
    "| epochs | Sets the number of epochs to train for |\n",
    "| train | Trains on the active dataset for the number of epochs specified |\n",
    "| evaluate | Evaluates the accuracy on the active dataset over one epoch |\n",
    "| model path | Sets the active model path |\n",
    "| load | Loads a model from the active model path |\n",
    "| save | Saves a model to the active model path |\n",
    "| stop | Disables the live demo |\n",
    "| live | Enables the live demo |"
   ]
  },
  {
   "cell_type": "code",
   "execution_count": null,
   "metadata": {
    "tags": []
   },
   "outputs": [],
   "source": [
    "summary_widget = ipywidgets.HTML(value=f'''\n",
    "<h3>Training Configuration Summary</h3>\n",
    "<ul>\n",
    "<li><b>Task:</b> {TASK}</li>\n",
    "<li><b>Categories:</b> {', '.join(CATEGORIES)}</li>\n",
    "<li><b>Datasets:</b> {', '.join(DATASETS)}</li>\n",
    "<li><b>Batch Size:</b> {BATCH_SIZE}</li>\n",
    "<li><b>Model:</b> ResNet18</li>\n",
    "<li><b>Device:</b> {device}</li>\n",
    "<li><b>Image Directory:</b> {IMAGE_DIRECTORY}</li>\n",
    "<li><b>Optimizer:</b> Adam</li>\n",
    "</ul>\n",
    "''')\n",
    "display(summary_widget)\n",
    "\n",
    "print(\"\\n\" + \"=\"*50)\n",
    "print(\"✓ SETUP COMPLETE!\")\n",
    "print(\"=\"*50)\n",
    "print(\"\\nNext steps:\")\n",
    "print(\"1. Click 'Check Image Directories' to verify your images are found\")\n",
    "print(\"2. Select a dataset from the dropdown if needed\")\n",
    "print(\"3. Set the number of epochs for training\")\n",
    "print(\"4. Click 'train' to start training or 'evaluate' to test\")\n",
    "print(\"\\nNote: Make sure your images are organized as:\")\n",
    "print(f\"  {IMAGE_DIRECTORY}/road_following_A/apex/*.jpg\")\n",
    "print(f\"  {IMAGE_DIRECTORY}/road_following_B/apex/*.jpg\")\n",
    "print(\"  etc...\")\n"
   ]
  },
  {
   "cell_type": "code",
   "execution_count": null,
   "metadata": {},
   "outputs": [],
   "source": []
  }
 ],
 "metadata": {
  "kernelspec": {
   "display_name": "Python 3 (ipykernel)",
   "language": "python",
   "name": "python3"
  },
  "language_info": {
   "codemirror_mode": {
    "name": "ipython",
    "version": 3
   },
   "file_extension": ".py",
   "mimetype": "text/x-python",
   "name": "python",
   "nbconvert_exporter": "python",
   "pygments_lexer": "ipython3",
   "version": "3.8.10"
  }
 },
 "nbformat": 4,
 "nbformat_minor": 4
}
