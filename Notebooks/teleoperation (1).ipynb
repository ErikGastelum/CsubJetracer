{
 "cells": [
  {
   "cell_type": "markdown",
   "metadata": {
    "tags": []
   },
   "source": [
    "# Teleoperation\n",
    "\n",
    "In this example we'll control the Jetbot remotely with a gamepad controller connected to our web browser machine."
   ]
  },
  {
   "cell_type": "markdown",
   "metadata": {
    "tags": []
   },
   "source": [
    "### Create gamepad controller\n",
    "\n",
    "The first thing we want to do is create an instance of the ``Controller`` widget, which we'll use to drive our robot.\n",
    "The ``Controller`` widget takes a ``index`` parameter, which specifies the number of the controller.  This is useful in case you\n",
    "have multiple controllers attached, or some gamepads *appear* as multiple controllers.  To determine the index\n",
    "of the controller you're using,\n",
    "\n",
    "1. Visit [http://html5gamepad.com](http://html5gamepad.com).  \n",
    "2. Press buttons on the gamepad you're using\n",
    "3. Remember the ``index`` of the gamepad that is responding to the button presses\n",
    "\n",
    "Next, we'll create and display our controller using that index."
   ]
  },
  {
   "cell_type": "code",
   "execution_count": 1,
   "metadata": {},
   "outputs": [
    {
     "name": "stderr",
     "output_type": "stream",
     "text": [
      "WARNING: Carrier board is not from a Jetson Developer Kit.\n",
      "WARNNIG: Jetson.GPIO library has not been verified with this carrier board,\n",
      "WARNING: and in fact is unlikely to work correctly.\n"
     ]
    },
    {
     "data": {
      "application/vnd.jupyter.widget-view+json": {
       "model_id": "1e90e19d833e4f618da21c1565d08ed3",
       "version_major": 2,
       "version_minor": 0
      },
      "text/plain": [
       "Controller()"
      ]
     },
     "metadata": {},
     "output_type": "display_data"
    }
   ],
   "source": [
    "import ipywidgets.widgets as widgets\n",
    "import traitlets\n",
    "from jetracer.nvidia_racecar import NvidiaRacecar\n",
    "import time \n",
    "controller = widgets.Controller(index=0)\n",
    "display(controller)"
   ]
  },
  {
   "cell_type": "markdown",
   "metadata": {},
   "source": [
    "Even if the index is correct, you may see the text ``Connect gamepad and press any button``.  That's because the gamepad hasn't\n",
    "registered with this notebook yet.  Press a button and you should see the gamepad widget appear above."
   ]
  },
  {
   "cell_type": "markdown",
   "metadata": {},
   "source": [
    "### Connect gamepad controller to robot motors\n",
    "\n",
    "Now, even though we've connected our gamepad, we haven't yet attached the controls to our robot!  The first, and most simple control\n",
    "we want to attach is the motor control.  We'll connect that to the left and right vertical axes using the ``dlink`` function.  The\n",
    "``dlink`` function, unlike the ``link`` function, allows us to attach a transform between the ``source`` and ``target``.  Because\n",
    "the controller axes are flipped from what we think is intuitive for the motor control, we'll use a small *lambda* function to\n",
    "negate the value.\n",
    "\n",
    "> WARNING: This next cell will move the robot if you touch the gamepad controller axes!"
   ]
  },
  {
   "cell_type": "code",
   "execution_count": 2,
   "metadata": {
    "tags": []
   },
   "outputs": [],
   "source": [
    "car = NvidiaRacecar()"
   ]
  },
  {
   "cell_type": "code",
   "execution_count": 3,
   "metadata": {},
   "outputs": [
    {
     "name": "stdout",
     "output_type": "stream",
     "text": [
      "💥 NUCLEAR OPTION WITH PROPER PRIMING\n",
      "✅ Fresh car created\n",
      "🔄 PROPER PRIMING SEQUENCE\n",
      "   Priming gain: 0.4\n",
      "   Priming forward...\n",
      "   Priming reverse...\n",
      "   Mixed sequence...\n",
      "   Final gain: 0.2\n",
      "✅ Priming complete!\n"
     ]
    }
   ],
   "source": [
    "# COMPLETE NUCLEAR OPTION + PROPER PRIMING - ALL IN ONE CELL\n",
    "import ipywidgets.widgets as widgets\n",
    "import traitlets\n",
    "from jetracer.nvidia_racecar import NvidiaRacecar\n",
    "import time\n",
    "\n",
    "print(\"💥 NUCLEAR OPTION WITH PROPER PRIMING\")\n",
    "\n",
    "# Step 1: Fresh car\n",
    "car = NvidiaRacecar()\n",
    "car.steering_gain = -0.8\n",
    "car.steering_offset = 0.16\n",
    "car.throttle_gain = 0.2                           # Start with target\n",
    "car.throttle = 0\n",
    "print(\"✅ Fresh car created\")\n",
    "\n",
    "# Step 2: Proper priming sequence\n",
    "print(\"🔄 PROPER PRIMING SEQUENCE\")\n",
    "\n",
    "# Increase gain for priming\n",
    "car.throttle_gain = 0.4\n",
    "print(f\"   Priming gain: {car.throttle_gain}\")\n",
    "time.sleep(0.2)\n",
    "\n",
    "# Prime forward\n",
    "print(\"   Priming forward...\")\n",
    "car.throttle = 0.6\n",
    "time.sleep(0.4)\n",
    "car.throttle = 0\n",
    "\n",
    "# Prime reverse  \n",
    "print(\"   Priming reverse...\")\n",
    "car.throttle = -0.6\n",
    "time.sleep(0.4)\n",
    "car.throttle = 0\n",
    "\n",
    "# Mixed sequence\n",
    "print(\"   Mixed sequence...\")\n",
    "car.throttle = 0.8\n",
    "time.sleep(0.3)\n",
    "car.throttle = -0.8\n",
    "time.sleep(0.3)\n",
    "car.throttle = 0\n",
    "\n",
    "# Set final working gain\n",
    "car.throttle_gain = 0.2                           # Back to working value\n",
    "print(f\"   Final gain: {car.throttle_gain}\")\n",
    "time.sleep(0.3)\n",
    "car.throttle = 0\n",
    "\n",
    "print(\"✅ Priming complete!\")\n",
    "\n"
   ]
  },
  {
   "cell_type": "code",
   "execution_count": null,
   "metadata": {},
   "outputs": [],
   "source": []
  },
  {
   "cell_type": "code",
   "execution_count": null,
   "metadata": {},
   "outputs": [],
   "source": []
  },
  {
   "cell_type": "code",
   "execution_count": 4,
   "metadata": {
    "tags": []
   },
   "outputs": [
    {
     "name": "stdout",
     "output_type": "stream",
     "text": [
      "✅ Smart throttle with auto reverse refresh active!\n",
      "📊 Forward → stop → reverse will auto-refresh\n"
     ]
    }
   ],
   "source": [
    "# CLEAN SMART THROTTLE SETUP\n",
    "import traitlets\n",
    "\n",
    "# Steering link (unchanged)\n",
    "steering_link = traitlets.dlink(\n",
    "    (controller.axes[0], 'value'), \n",
    "    (car, 'steering'), \n",
    "    transform=lambda x: x\n",
    ")\n",
    "\n",
    "# Initialize tracking variables\n",
    "last_throttle = 0\n",
    "forward_was_used = False\n",
    "\n",
    "def smart_throttle_transform(controller_value):\n",
    "    global last_throttle, forward_was_used\n",
    "    \n",
    "    # Get current throttle value\n",
    "    current_throttle = max(-1.0, min(1.0, -controller_value))\n",
    "    \n",
    "    # Detect when we stop after going forward\n",
    "    if last_throttle > 0.2 and abs(current_throttle) < 0.1:\n",
    "        forward_was_used = True\n",
    "        \n",
    "    # If trying reverse after forward, refresh first\n",
    "    if forward_was_used and current_throttle < -0.1:\n",
    "        print(\"🔄 Auto-refreshing reverse...\")\n",
    "        \n",
    "        # Quick reverse refresh\n",
    "        old_gain = car.throttle_gain\n",
    "        car.throttle_gain = 0.6\n",
    "        car.throttle = -0.7\n",
    "        time.sleep(0.2)\n",
    "        car.throttle = 0\n",
    "        time.sleep(0.1)\n",
    "        car.throttle_gain = old_gain\n",
    "        \n",
    "        forward_was_used = False\n",
    "        print(\"✅ Reverse ready!\")\n",
    "    \n",
    "    # Update state\n",
    "    last_throttle = current_throttle\n",
    "    \n",
    "    return current_throttle\n",
    "\n",
    "# Create smart throttle link\n",
    "throttle_link = traitlets.dlink(\n",
    "    (controller.axes[3], 'value'), \n",
    "    (car, 'throttle'), \n",
    "    transform=smart_throttle_transform\n",
    ")\n",
    "\n",
    "print(\"✅ Smart throttle with auto reverse refresh active!\")\n",
    "print(\"📊 Forward → stop → reverse will auto-refresh\")"
   ]
  },
  {
   "cell_type": "code",
   "execution_count": 5,
   "metadata": {
    "tags": []
   },
   "outputs": [
    {
     "name": "stdout",
     "output_type": "stream",
     "text": [
      "⚡ ULTRA-STRONG REVERSE PRIMING\n",
      "   Ultra-high gain: 0.8\n",
      "   Maximum reverse shock...\n",
      "   Reverse shock 1/3...\n",
      "   Reverse shock 2/3...\n",
      "   Reverse shock 3/3...\n",
      "   Aggressive alternating...\n",
      "   Final reverse test with high gain...\n",
      "✅ Gain restored to: 0.2\n",
      "🧪 Try controller reverse now!\n"
     ]
    }
   ],
   "source": [
    "# ULTRA-STRONG REVERSE PRIMING - Replace previous priming\n",
    "print(\"⚡ ULTRA-STRONG REVERSE PRIMING\")\n",
    "\n",
    "# Step 1: Maximum gain for maximum power\n",
    "old_gain = car.throttle_gain\n",
    "car.throttle_gain = 0.8  # Very high gain\n",
    "print(f\"   Ultra-high gain: {car.throttle_gain}\")\n",
    "\n",
    "# Step 2: Maximum reverse shock\n",
    "print(\"   Maximum reverse shock...\")\n",
    "car.throttle = -1.0  # Full reverse\n",
    "time.sleep(1.0)      # Longer duration\n",
    "car.throttle = 0\n",
    "time.sleep(0.5)\n",
    "\n",
    "# Step 3: Repeated reverse shocks\n",
    "for i in range(3):\n",
    "    print(f\"   Reverse shock {i+1}/3...\")\n",
    "    car.throttle = -1.0\n",
    "    time.sleep(0.8)\n",
    "    car.throttle = 0\n",
    "    time.sleep(0.3)\n",
    "\n",
    "# Step 4: Aggressive alternating pattern\n",
    "print(\"   Aggressive alternating...\")\n",
    "for i in range(5):\n",
    "    car.throttle = 1.0   # Full forward\n",
    "    time.sleep(0.2)\n",
    "    car.throttle = -1.0  # Full reverse\n",
    "    time.sleep(0.2)\n",
    "car.throttle = 0\n",
    "\n",
    "# Step 5: Final reverse test with high gain\n",
    "print(\"   Final reverse test with high gain...\")\n",
    "car.throttle = -0.8\n",
    "time.sleep(1.0)\n",
    "car.throttle = 0\n",
    "\n",
    "# Step 6: Restore working gain\n",
    "car.throttle_gain = old_gain  # Back to 0.2\n",
    "print(f\"✅ Gain restored to: {car.throttle_gain}\")\n",
    "print(\"🧪 Try controller reverse now!\")"
   ]
  },
  {
   "cell_type": "code",
   "execution_count": null,
   "metadata": {},
   "outputs": [],
   "source": [
    "\n"
   ]
  },
  {
   "cell_type": "code",
   "execution_count": null,
   "metadata": {
    "tags": []
   },
   "outputs": [],
   "source": []
  },
  {
   "cell_type": "code",
   "execution_count": null,
   "metadata": {},
   "outputs": [],
   "source": []
  },
  {
   "cell_type": "code",
   "execution_count": null,
   "metadata": {},
   "outputs": [],
   "source": []
  },
  {
   "cell_type": "code",
   "execution_count": null,
   "metadata": {},
   "outputs": [],
   "source": []
  },
  {
   "cell_type": "markdown",
   "metadata": {},
   "source": [
    "Awesome! Our robot should now respond to our gamepad controller movements.  Now we want to view the live video feed from the camera!"
   ]
  },
  {
   "cell_type": "code",
   "execution_count": null,
   "metadata": {},
   "outputs": [],
   "source": []
  },
  {
   "cell_type": "code",
   "execution_count": null,
   "metadata": {},
   "outputs": [],
   "source": [
    "#car = NvidiaRacecar()\n",
    "#car.steering_gain = -0.8\n",
    "#car.steering_offset = 0.16\n",
    "​\n",
    "# BIDIRECTIONAL PRIMING\n",
    "#car.throttle_gain = 0.4  # Higher for priming\n",
    "​\n",
    "# Prime FORWARD\n",
    "#car.throttle = 0.2\n",
    "#time.sleep(0.3)\n",
    "#car.throttle = 0\n",
    "​\n",
    "# Prime REVERSE (the missing piece!)\n",
    "#car.throttle = -0.2  # Negative for reverse\n",
    "#time.sleep(0.3)\n",
    "#car.throttle = 0\n",
    "#time.sleep(0.2)\n",
    "​\n",
    "# Set working gain (higher for reverse)\n",
    "car.throttle_gain = 0.25                                  # Change Throttle Gain here. Speed Will increase\n",
    "print(\"✅ Both directions primed!\")\n",
    "#NOTE: '.1' works although very glitchy and stops before accelerating, should probably be above that (.15 worked well). \n",
    "# '.11' worked slightly better, more of a 70/30 messup rate \n",
    "# '.12' worked very well, only con is sometime the gain hits it and other times it doesn't, it's still slow but different speeds depending on if the gain hits or not\n",
    "# '.13' worked like '.12' just almost always hit the gain so more consistent, this is a safer option\n",
    "# Rarely when you full power accelerate it'll take time to remember what the accelerate and reverse does\n",
    "# The strat for right now is do .3 before all"
   ]
  },
  {
   "cell_type": "code",
   "execution_count": null,
   "metadata": {},
   "outputs": [],
   "source": []
  },
  {
   "cell_type": "code",
   "execution_count": null,
   "metadata": {},
   "outputs": [],
   "source": [
    "#Only Run this if you want to stop the car "
   ]
  },
  {
   "cell_type": "code",
   "execution_count": null,
   "metadata": {},
   "outputs": [],
   "source": [
    "def emergency_stop(change):\n",
    "    if change['new']:\n",
    "        car.throttle = 0\n",
    "        car.steering = 0\n",
    "        print(\"🛑 EMERGENCY STOP!\")\n",
    "\n",
    "def reset_center(change):\n",
    "    if change['new']:\n",
    "        car.steering = 0\n",
    "        print(\"🎯 Reset to center\")\n",
    "\n",
    "controller.buttons[0].observe(emergency_stop, names='value')\n",
    "controller.buttons[1].observe(reset_center, names='value')\n",
    "\n",
    "print(\"🛡️ Safety features active:\")\n",
    "print(\"   Button 0 (X/A) = Emergency stop\")\n",
    "print(\"   Button 1 (Circle/B) = Reset steering\")"
   ]
  },
  {
   "cell_type": "code",
   "execution_count": null,
   "metadata": {},
   "outputs": [],
   "source": []
  },
  {
   "cell_type": "code",
   "execution_count": null,
   "metadata": {},
   "outputs": [],
   "source": []
  },
  {
   "cell_type": "code",
   "execution_count": null,
   "metadata": {},
   "outputs": [],
   "source": []
  }
 ],
 "metadata": {
  "kernelspec": {
   "display_name": "Python 3",
   "language": "python",
   "name": "python3"
  },
  "language_info": {
   "codemirror_mode": {
    "name": "ipython",
    "version": 3
   },
   "file_extension": ".py",
   "mimetype": "text/x-python",
   "name": "python",
   "nbconvert_exporter": "python",
   "pygments_lexer": "ipython3",
   "version": "3.6.9"
  }
 },
 "nbformat": 4,
 "nbformat_minor": 4
}
